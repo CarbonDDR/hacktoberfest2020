{
 "cells": [
  {
   "cell_type": "markdown",
   "id": "radio-highway",
   "metadata": {},
   "source": [
    "### Reading Data from JSON file"
   ]
  },
  {
   "cell_type": "code",
   "execution_count": 7,
   "id": "pediatric-excellence",
   "metadata": {},
   "outputs": [],
   "source": [
    "import json"
   ]
  },
  {
   "cell_type": "code",
   "execution_count": 8,
   "id": "worse-article",
   "metadata": {},
   "outputs": [],
   "source": [
    "fd = open(\"Record.json\",\"r\")\n",
    "txt = fd.read()\n",
    "fd.close()"
   ]
  },
  {
   "cell_type": "markdown",
   "id": "wicked-while",
   "metadata": {},
   "source": [
    "### Converting str to dict"
   ]
  },
  {
   "cell_type": "code",
   "execution_count": 9,
   "id": "aging-report",
   "metadata": {},
   "outputs": [],
   "source": [
    "record = json.loads(txt)"
   ]
  },
  {
   "cell_type": "code",
   "execution_count": 12,
   "id": "steady-response",
   "metadata": {},
   "outputs": [
    {
     "data": {
      "text/plain": [
       "{'1001': {'Prod_Name': 'YoloDrinks', 'MRP': 30, 'Qty': 100, 'Exp': '2021-1-1'},\n",
       " '1002': {'Prod_Name': 'Milk', 'MRP': 24, 'Qty': 95, 'Exp': '2021-09-29'},\n",
       " '1003': {'Prod_Name': 'Pasta', 'MRP': 15, 'Qty': 100, 'Exp': '2021-10-02'},\n",
       " '1004': {'Prod_Name': 'Maggi', 'MRP': 12, 'Qty': 100, 'Exp': '2021-10-03'},\n",
       " '1005': {'Prod_Name': 'Eggs', 'MRP': 20, 'Qty': 100, 'Exp': '2021-10-08'},\n",
       " '1006': {'Prod_Name': 'Butter', 'MRP': 30, 'Qty': 100, 'Exp': '2021-10-23'},\n",
       " '1007': {'Prod_Name': 'Yogurt', 'MRP': 25, 'Qty': 20, 'Exp': '2021-11-07'},\n",
       " '1008': {'Prod_Name': 'Oil', 'MRP': 90, 'Qty': 200, 'Exp': '2021-11-18'},\n",
       " '1009': {'Prod_Name': 'Basil', 'MRP': 20, 'Qty': 25, 'Exp': '2021-11-19'},\n",
       " '1010': {'Prod_Name': 'Sauce', 'MRP': 60, 'Qty': 25, 'Exp': '2021-11-20'},\n",
       " '1011': {'Prod_Name': 'Pepper', 'MRP': 20, 'Qty': 80, 'Exp': '2021-12-03'},\n",
       " '1012': {'Prod_Name': 'Nuts', 'MRP': 30, 'Qty': 95, 'Exp': '2021-12-04'},\n",
       " '1013': {'Prod_Name': 'Bisleri', 'MRP': 20, 'Qty': 200, 'Exp': '2021-12-08'},\n",
       " '1014': {'Prod_Name': 'Notebook', 'MRP': 30, 'Qty': 100, 'Exp': '2021-12-21'},\n",
       " '1015': {'Prod_Name': 'Swim Cap', 'MRP': 50, 'Qty': 50, 'Exp': '2022-01-22'},\n",
       " '1016': {'Prod_Name': 'Ice cream', 'MRP': 20, 'Qty': 70, 'Exp': '2022-01-26'},\n",
       " '1017': {'Prod_Name': 'Camera', 'MRP': 4999, 'Qty': 50, 'Exp': '2022-01-28'},\n",
       " '1018': {'Prod_Name': 'Tissue', 'MRP': 10, 'Qty': 100, 'Exp': '2022-01-11'},\n",
       " '1019': {'Prod_Name': 'Soda', 'MRP': 15, 'Qty': 55, 'Exp': '2022-01-01'},\n",
       " '1020': {'Prod_Name': 'Tea', 'MRP': 20, 'Qty': 25, 'Exp': '2022-01-23'},\n",
       " '1021': {'Prod_Name': 'Coffee', 'MRP': 30, 'Qty': 25, 'Exp': '2022-01-26'},\n",
       " '1022': {'Prod_Name': 'Berries', 'MRP': 15, 'Qty': 10, 'Exp': '2021-10-27'},\n",
       " '1023': {'Prod_Name': 'Grapes', 'MRP': 20, 'Qty': 20, 'Exp': '2021-11-01'},\n",
       " '1024': {'Prod_Name': 'Bread', 'MRP': 22, 'Qty': 25, 'Exp': '2021-09-19'},\n",
       " '1025': {'Prod_Name': 'Curd', 'MRP': 35, 'Qty': 25, 'Exp': '2021-12-21'},\n",
       " '1026': {'Prod_Name': 'Butter', 'MRP': 25, 'Qty': 25, 'Exp': '2021-09-19'},\n",
       " '1027': {'Prod_Name': 'Wheat', 'MRP': 100, 'Qty': 10, 'Exp': '2021-11-17'},\n",
       " '1028': {'Prod_Name': 'Cake', 'MRP': 150, 'Qty': 10, 'Exp': '2021-12-23'},\n",
       " '1029': {'Prod_Name': 'Newspaper', 'MRP': 5, 'Qty': 10, 'Exp': '2021-09-05'},\n",
       " '1030': {'Prod_Name': 'TPaste', 'MRP': 90, 'Qty': 25, 'Exp': '2021-11-22'}}"
      ]
     },
     "execution_count": 12,
     "metadata": {},
     "output_type": "execute_result"
    }
   ],
   "source": [
    "record"
   ]
  },
  {
   "cell_type": "markdown",
   "id": "sudden-texture",
   "metadata": {},
   "source": [
    "### Adding new items into store"
   ]
  },
  {
   "cell_type": "code",
   "execution_count": 13,
   "id": "personalized-projection",
   "metadata": {
    "scrolled": true
   },
   "outputs": [
    {
     "name": "stdout",
     "output_type": "stream",
     "text": [
      "Enter product id: \n",
      "1002\n"
     ]
    },
    {
     "ename": "KeyboardInterrupt",
     "evalue": "Interrupted by user",
     "output_type": "error",
     "traceback": [
      "\u001b[1;31m---------------------------------------------------------------------------\u001b[0m",
      "\u001b[1;31mKeyboardInterrupt\u001b[0m                         Traceback (most recent call last)",
      "\u001b[1;32m<ipython-input-13-1889fac27e6d>\u001b[0m in \u001b[0;36m<module>\u001b[1;34m\u001b[0m\n\u001b[0;32m      1\u001b[0m \u001b[0mprod_id\u001b[0m \u001b[1;33m=\u001b[0m \u001b[0mstr\u001b[0m\u001b[1;33m(\u001b[0m\u001b[0minput\u001b[0m\u001b[1;33m(\u001b[0m\u001b[1;34m\"Enter product id: \\n\"\u001b[0m\u001b[1;33m)\u001b[0m\u001b[1;33m)\u001b[0m\u001b[1;33m\u001b[0m\u001b[1;33m\u001b[0m\u001b[0m\n\u001b[1;32m----> 2\u001b[1;33m \u001b[0mname\u001b[0m \u001b[1;33m=\u001b[0m \u001b[0mstr\u001b[0m\u001b[1;33m(\u001b[0m\u001b[0minput\u001b[0m\u001b[1;33m(\u001b[0m\u001b[1;34m\"Enter product name: \\n\"\u001b[0m\u001b[1;33m)\u001b[0m\u001b[1;33m)\u001b[0m\u001b[1;33m\u001b[0m\u001b[1;33m\u001b[0m\u001b[0m\n\u001b[0m\u001b[0;32m      3\u001b[0m \u001b[0mprice\u001b[0m \u001b[1;33m=\u001b[0m \u001b[0mint\u001b[0m\u001b[1;33m(\u001b[0m\u001b[0minput\u001b[0m\u001b[1;33m(\u001b[0m\u001b[1;34m\"Enter price: \\n\"\u001b[0m\u001b[1;33m)\u001b[0m\u001b[1;33m)\u001b[0m\u001b[1;33m\u001b[0m\u001b[1;33m\u001b[0m\u001b[0m\n\u001b[0;32m      4\u001b[0m \u001b[0mquantity\u001b[0m \u001b[1;33m=\u001b[0m \u001b[0mint\u001b[0m\u001b[1;33m(\u001b[0m\u001b[0minput\u001b[0m\u001b[1;33m(\u001b[0m\u001b[1;34m\"Enter quantity: \\n\"\u001b[0m\u001b[1;33m)\u001b[0m\u001b[1;33m)\u001b[0m\u001b[1;33m\u001b[0m\u001b[1;33m\u001b[0m\u001b[0m\n\u001b[0;32m      5\u001b[0m \u001b[0mexp_date\u001b[0m \u001b[1;33m=\u001b[0m \u001b[0mstr\u001b[0m\u001b[1;33m(\u001b[0m\u001b[0minput\u001b[0m\u001b[1;33m(\u001b[0m\u001b[1;34m\"Enter exp date: \\n\"\u001b[0m\u001b[1;33m)\u001b[0m\u001b[1;33m)\u001b[0m\u001b[1;33m\u001b[0m\u001b[1;33m\u001b[0m\u001b[0m\n",
      "\u001b[1;32mD:\\anaconda3\\lib\\site-packages\\ipykernel\\kernelbase.py\u001b[0m in \u001b[0;36mraw_input\u001b[1;34m(self, prompt)\u001b[0m\n\u001b[0;32m    858\u001b[0m                 \u001b[1;34m\"raw_input was called, but this frontend does not support input requests.\"\u001b[0m\u001b[1;33m\u001b[0m\u001b[1;33m\u001b[0m\u001b[0m\n\u001b[0;32m    859\u001b[0m             )\n\u001b[1;32m--> 860\u001b[1;33m         return self._input_request(str(prompt),\n\u001b[0m\u001b[0;32m    861\u001b[0m             \u001b[0mself\u001b[0m\u001b[1;33m.\u001b[0m\u001b[0m_parent_ident\u001b[0m\u001b[1;33m,\u001b[0m\u001b[1;33m\u001b[0m\u001b[1;33m\u001b[0m\u001b[0m\n\u001b[0;32m    862\u001b[0m             \u001b[0mself\u001b[0m\u001b[1;33m.\u001b[0m\u001b[0m_parent_header\u001b[0m\u001b[1;33m,\u001b[0m\u001b[1;33m\u001b[0m\u001b[1;33m\u001b[0m\u001b[0m\n",
      "\u001b[1;32mD:\\anaconda3\\lib\\site-packages\\ipykernel\\kernelbase.py\u001b[0m in \u001b[0;36m_input_request\u001b[1;34m(self, prompt, ident, parent, password)\u001b[0m\n\u001b[0;32m    902\u001b[0m             \u001b[1;32mexcept\u001b[0m \u001b[0mKeyboardInterrupt\u001b[0m\u001b[1;33m:\u001b[0m\u001b[1;33m\u001b[0m\u001b[1;33m\u001b[0m\u001b[0m\n\u001b[0;32m    903\u001b[0m                 \u001b[1;31m# re-raise KeyboardInterrupt, to truncate traceback\u001b[0m\u001b[1;33m\u001b[0m\u001b[1;33m\u001b[0m\u001b[1;33m\u001b[0m\u001b[0m\n\u001b[1;32m--> 904\u001b[1;33m                 \u001b[1;32mraise\u001b[0m \u001b[0mKeyboardInterrupt\u001b[0m\u001b[1;33m(\u001b[0m\u001b[1;34m\"Interrupted by user\"\u001b[0m\u001b[1;33m)\u001b[0m \u001b[1;32mfrom\u001b[0m \u001b[1;32mNone\u001b[0m\u001b[1;33m\u001b[0m\u001b[1;33m\u001b[0m\u001b[0m\n\u001b[0m\u001b[0;32m    905\u001b[0m             \u001b[1;32mexcept\u001b[0m \u001b[0mException\u001b[0m \u001b[1;32mas\u001b[0m \u001b[0me\u001b[0m\u001b[1;33m:\u001b[0m\u001b[1;33m\u001b[0m\u001b[1;33m\u001b[0m\u001b[0m\n\u001b[0;32m    906\u001b[0m                 \u001b[0mself\u001b[0m\u001b[1;33m.\u001b[0m\u001b[0mlog\u001b[0m\u001b[1;33m.\u001b[0m\u001b[0mwarning\u001b[0m\u001b[1;33m(\u001b[0m\u001b[1;34m\"Invalid Message:\"\u001b[0m\u001b[1;33m,\u001b[0m \u001b[0mexc_info\u001b[0m\u001b[1;33m=\u001b[0m\u001b[1;32mTrue\u001b[0m\u001b[1;33m)\u001b[0m\u001b[1;33m\u001b[0m\u001b[1;33m\u001b[0m\u001b[0m\n",
      "\u001b[1;31mKeyboardInterrupt\u001b[0m: Interrupted by user"
     ]
    }
   ],
   "source": [
    "prod_id = str(input(\"Enter product id: \\n\"))\n",
    "name = str(input(\"Enter product name: \\n\"))\n",
    "price = int(input(\"Enter price: \\n\"))\n",
    "quantity = int(input(\"Enter quantity: \\n\"))\n",
    "exp_date = str(input(\"Enter exp date: \\n\"))\n",
    "\n",
    "record[prod_id] = {\"Prod_Name\":name,\"MRP\":price,\"Qty\":quantity,\"Exp\":exp_date}"
   ]
  },
  {
   "cell_type": "markdown",
   "id": "legal-doctrine",
   "metadata": {},
   "source": [
    "### Updating added quantity"
   ]
  },
  {
   "cell_type": "code",
   "execution_count": 14,
   "id": "alleged-better",
   "metadata": {},
   "outputs": [],
   "source": [
    "def adding_prod(prod):\n",
    "    ui_adding = int(input(\"Adding more items: \\n\"))\n",
    "    record[prod][\"Qty\"] = record[prod][\"Qty\"] + ui_adding\n",
    "    print(\"***********************\")\n",
    "    print(ui_adding ,\"itmes added into: {} Updated Qty: {}\".format(record[prod][\"Prod_Name\"],record[prod][\"Qty\"]))\n",
    "    print(\"_______________________\")"
   ]
  },
  {
   "cell_type": "code",
   "execution_count": null,
   "id": "parental-promise",
   "metadata": {
    "scrolled": true
   },
   "outputs": [],
   "source": [
    "prod = input(\"Enter prod_id: \\n\")\n",
    "adding_prod(prod)"
   ]
  },
  {
   "cell_type": "markdown",
   "id": "several-planet",
   "metadata": {},
   "source": [
    "### Converting dict to str"
   ]
  },
  {
   "cell_type": "code",
   "execution_count": 7,
   "id": "organized-samuel",
   "metadata": {},
   "outputs": [],
   "source": [
    "jd = json.dumps(record)"
   ]
  },
  {
   "cell_type": "markdown",
   "id": "breeding-vehicle",
   "metadata": {},
   "source": [
    "### Writing new data into JSON file"
   ]
  },
  {
   "cell_type": "code",
   "execution_count": 8,
   "id": "alive-fireplace",
   "metadata": {},
   "outputs": [],
   "source": [
    "fd = open(\"Record.json\",\"w\")\n",
    "fd.write(jd)\n",
    "fd.close()"
   ]
  }
 ],
 "metadata": {
  "kernelspec": {
   "display_name": "Python 3",
   "language": "python",
   "name": "python3"
  },
  "language_info": {
   "codemirror_mode": {
    "name": "ipython",
    "version": 3
   },
   "file_extension": ".py",
   "mimetype": "text/x-python",
   "name": "python",
   "nbconvert_exporter": "python",
   "pygments_lexer": "ipython3",
   "version": "3.8.8"
  }
 },
 "nbformat": 4,
 "nbformat_minor": 5
}
